{
 "cells": [
  {
   "cell_type": "code",
   "execution_count": 0,
   "metadata": {
    "application/vnd.databricks.v1+cell": {
     "cellMetadata": {
      "byteLimit": 2048000,
      "rowLimit": 10000
     },
     "inputWidgets": {},
     "nuid": "39383c84-eba2-4dba-821d-84ca97c496c1",
     "showTitle": false,
     "title": ""
    }
   },
   "outputs": [],
   "source": [
    "from get_api_key import import_json as read_db_secret\n",
    "\n",
    "db_info = read_db_secret(\"db_config/database_config_player_db.json\")\n",
    "\n",
    "host = db_info[\"host\"]\n",
    "user = db_info[\"user\"]\n",
    "password = db_info[\"password\"]\n",
    "db_port = db_info[\"port\"]\n",
    "db_name = db_info[\"db_name\"]"
   ]
  },
  {
   "cell_type": "code",
   "execution_count": 0,
   "metadata": {
    "application/vnd.databricks.v1+cell": {
     "cellMetadata": {
      "byteLimit": 2048000,
      "rowLimit": 10000
     },
     "inputWidgets": {},
     "nuid": "68f3ff57-6167-458c-a04f-de159e347e8a",
     "showTitle": false,
     "title": ""
    }
   },
   "outputs": [],
   "source": [
    "driver = \"org.mariadb.jdbc.Driver\"\n",
    "\n",
    "database_host = host\n",
    "database_port = db_port # update if you use a non-default port\n",
    "database_name = db_name\n",
    "table = \"hlstats_Players\"\n",
    "# user = \"<username>\"\n",
    "# password = \"<password>\"\n",
    "\n",
    "url = f\"jdbc:mysql://{database_host}:{database_port}/{database_name}\"\n",
    "\n",
    "remote_table = (spark.read\n",
    "  .format(\"jdbc\")\n",
    "  .option(\"driver\", driver)\n",
    "  .option(\"url\", url)\n",
    "  .option(\"dbtable\", table)\n",
    "  .option(\"user\", user)\n",
    "  .option(\"password\", password)\n",
    "  .load()\n",
    ")"
   ]
  },
  {
   "cell_type": "code",
   "execution_count": 0,
   "metadata": {
    "application/vnd.databricks.v1+cell": {
     "cellMetadata": {
      "byteLimit": 2048000,
      "rowLimit": 10000
     },
     "inputWidgets": {},
     "nuid": "e652355b-1fc0-420a-9300-2a1f37ecf25a",
     "showTitle": false,
     "title": ""
    }
   },
   "outputs": [],
   "source": [
    "url = f\"jdbc:mysql://{host}:{db_port}/{db_name}\"\n",
    "\n",
    "properties = {\n",
    "    \"user\": user,\n",
    "    \"password\": password,\n",
    "    #\"driver\": \"com.mysql.jdbc.Driver\"\n",
    "    \"driver\": \"org.mariadb.jdbc.Driver\"\n",
    "}"
   ]
  },
  {
   "cell_type": "code",
   "execution_count": 0,
   "metadata": {
    "application/vnd.databricks.v1+cell": {
     "cellMetadata": {
      "byteLimit": 2048000,
      "rowLimit": 10000
     },
     "inputWidgets": {},
     "nuid": "370fc32f-8839-4d72-ae1d-11e76fd6bd50",
     "showTitle": false,
     "title": ""
    }
   },
   "outputs": [],
   "source": [
    "table_name = \"hlstats_Players\"\n",
    "\n",
    "sparkdf = spark.read.jdbc(url, table_name, properties=properties)"
   ]
  },
  {
   "cell_type": "code",
   "execution_count": 0,
   "metadata": {
    "application/vnd.databricks.v1+cell": {
     "cellMetadata": {
      "byteLimit": 2048000,
      "rowLimit": 10000
     },
     "inputWidgets": {},
     "nuid": "8e4a9643-0e71-4c4e-904d-87dafd7b8b03",
     "showTitle": false,
     "title": ""
    }
   },
   "outputs": [],
   "source": [
    "# import pandas as pd\n",
    "db_to_get = [\"hlstats_Players\", \"hlstats_PlayerNames\", \"hlstats_Players_History\",\"hlstats_Events_Chat\",\"hlstats_Events_Connects\",\"hlstats_Events_Disconnects\",\"hlstats_PlayerUniqueIds\"]\n",
    "df_dicto = {}\n",
    "filepath = \"bronze/\"\n",
    "\n",
    "db_path_databrick = 'adb_hibak.bronze_'\n",
    "\n",
    "for db in db_to_get:\n",
    "    sparkdf = spark.read.jdbc(url, db, properties=properties)\n",
    "    # df_dicto[db] = sparkdf.toPandas() #Incase we need it as pandas DF\n",
    "    df_dicto[db] = sparkdf\n",
    "    sparkdf.write.mode('overwrite').saveAsTable(\"adb_hibak.bronze_\"+db)\n",
    "\n"
   ]
  }
 ],
 "metadata": {
  "application/vnd.databricks.v1+notebook": {
   "dashboards": [],
   "language": "python",
   "notebookMetadata": {
    "pythonIndentUnit": 4
   },
   "notebookName": "bronze_dump_hlstats_db_tables_pyspark",
   "widgets": {}
  },
  "kernelspec": {
   "display_name": "Python 3",
   "language": "python",
   "name": "python3"
  },
  "language_info": {
   "codemirror_mode": {
    "name": "ipython",
    "version": 3
   },
   "file_extension": ".py",
   "mimetype": "text/x-python",
   "name": "python",
   "nbconvert_exporter": "python",
   "pygments_lexer": "ipython3",
   "version": "3.11.7"
  }
 },
 "nbformat": 4,
 "nbformat_minor": 0
}
