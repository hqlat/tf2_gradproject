{
 "cells": [
  {
   "cell_type": "code",
   "execution_count": 0,
   "metadata": {
    "application/vnd.databricks.v1+cell": {
     "cellMetadata": {
      "byteLimit": 2048000,
      "rowLimit": 10000
     },
     "inputWidgets": {},
     "nuid": "34506b23-c481-4769-8f6c-d90942ded4be",
     "showTitle": false,
     "title": ""
    }
   },
   "outputs": [],
   "source": [
    "import requests\n",
    "import xml.etree.ElementTree as ET\n",
    "from bs4 import BeautifulSoup\n",
    "import pandas as pd\n",
    "from datetime import datetime, timedelta\n",
    "\n"
   ]
  },
  {
   "cell_type": "code",
   "execution_count": 0,
   "metadata": {
    "application/vnd.databricks.v1+cell": {
     "cellMetadata": {
      "byteLimit": 2048000,
      "rowLimit": 10000
     },
     "inputWidgets": {},
     "nuid": "9622e97e-dfc0-4b74-b456-38a0d2de566d",
     "showTitle": false,
     "title": ""
    }
   },
   "outputs": [],
   "source": [
    "filename = \"group_organized_events\"\n",
    "json_file_path = f\"silver/{filename}.json\""
   ]
  },
  {
   "cell_type": "code",
   "execution_count": 0,
   "metadata": {
    "application/vnd.databricks.v1+cell": {
     "cellMetadata": {
      "byteLimit": 2048000,
      "rowLimit": 10000
     },
     "inputWidgets": {},
     "nuid": "d10e6a5c-97a9-4b53-a562-12d74b7e99c7",
     "showTitle": false,
     "title": ""
    }
   },
   "outputs": [],
   "source": [
    "# Calculate the date 90 days ago\n",
    "start_date = datetime.now() - timedelta(days=90)\n",
    "\n",
    "# Extract month and year from the calculated date\n",
    "month_num = start_date.month\n",
    "year = start_date.year\n",
    "\n",
    "# Construct the URL using f-string\n",
    "url = f'https://steamcommunity.com/groups/higps/events?xml=1&action=eventFeed&month={month_num}&year={year}'\n",
    "\n",
    "\n"
   ]
  },
  {
   "cell_type": "code",
   "execution_count": 0,
   "metadata": {
    "application/vnd.databricks.v1+cell": {
     "cellMetadata": {
      "byteLimit": 2048000,
      "rowLimit": 10000
     },
     "inputWidgets": {},
     "nuid": "b86edbd9-2b89-4f2e-89e4-0ba4cf496020",
     "showTitle": false,
     "title": ""
    }
   },
   "outputs": [],
   "source": [
    "def get_event_dict(url):\n",
    "    html_strings  = []\n",
    "    events_list = []\n",
    "\n",
    "    # Fetch the XML content from the URL\n",
    "    response = requests.get(url)\n",
    "    xml_content = response.content\n",
    "\n",
    "    # Parse the XML content\n",
    "    tree = ET.fromstring(xml_content)\n",
    "\n",
    "    # Access elements and attributes\n",
    "    for expired_event in tree.iter('expiredEvent'):\n",
    "        event_id = expired_event.get('eventID')\n",
    "        event_data = expired_event.text  # Contains the CDATA content\n",
    "        html_strings .append(event_data)\n",
    "        # Your processing logic here\n",
    "\n",
    "    for html_string in html_strings:\n",
    "        # Parse the HTML string with BeautifulSoup\n",
    "        soup = BeautifulSoup(html_string, 'html.parser')\n",
    "\n",
    "        # Extract relevant information\n",
    "        event_id = soup.find('div', class_='eventBlock')['id']\n",
    "        weekday = soup.find('span', class_='hiliteTextRed').text.strip()\n",
    "        event_time = soup.find('span', class_='eventDateTime').text.strip()\n",
    "        event_title = soup.find('a', class_='headlineLink').text.strip()\n",
    "        event_link = soup.find('a', class_='headlineLink')['href']\n",
    "\n",
    "        # Create a dictionary for the current event\n",
    "        event_dict = {\n",
    "            'eventID': event_id,\n",
    "            'weekday': weekday,\n",
    "            'eventTime': event_time,\n",
    "            'eventTitle': event_title,\n",
    "            'eventLink': event_link,\n",
    "        }\n",
    "\n",
    "        # Append the dictionary to the list\n",
    "        events_list.append(event_dict)\n",
    "\n",
    "    return events_list"
   ]
  },
  {
   "cell_type": "code",
   "execution_count": 0,
   "metadata": {
    "application/vnd.databricks.v1+cell": {
     "cellMetadata": {
      "byteLimit": 2048000,
      "rowLimit": 10000
     },
     "inputWidgets": {},
     "nuid": "e429c825-8742-4423-af33-0696e3260543",
     "showTitle": false,
     "title": ""
    }
   },
   "outputs": [],
   "source": [
    "\n",
    " # Convert events_list to a DataFrame\n",
    "df = pd.DataFrame(get_event_dict(url))\n",
    "\n",
    "# Print the DataFrame\n",
    "print(df.head())"
   ]
  },
  {
   "cell_type": "code",
   "execution_count": 0,
   "metadata": {
    "application/vnd.databricks.v1+cell": {
     "cellMetadata": {
      "byteLimit": 2048000,
      "rowLimit": 10000
     },
     "inputWidgets": {},
     "nuid": "e1077850-9afe-4471-9b31-685bb2e68bea",
     "showTitle": false,
     "title": ""
    }
   },
   "outputs": [],
   "source": [
    "dfs = []\n",
    "dfs = []\n",
    "num_days = 90\n",
    "\n",
    "today = datetime.today()\n",
    "# Calculate the date 90 days ago from today\n",
    "start_date = today - timedelta(days=num_days)\n",
    "print(start_date)\n",
    "\n",
    "# Initialize variables for the first iteration\n",
    "current_month = 0\n",
    "current_year = 0\n",
    "\n",
    "# Loop through each day for the specified number of days\n",
    "for _ in range(num_days):\n",
    "    # Calculate the current date\n",
    "    current_date = start_date + timedelta(days=1)\n",
    "\n",
    "    # Check if the month and year have changed\n",
    "    if current_date.month != current_month or current_date.year != current_year:\n",
    "        # If the month and year have changed, update the variables\n",
    "        current_month = current_date.month\n",
    "        current_year = current_date.year\n",
    "\n",
    "        # Construct the URL using f-string with month and year\n",
    "        url = f'https://steamcommunity.com/groups/higps/events?xml=1&action=eventFeed&month={current_month}&year={current_year}'\n",
    "\n",
    "        # Fetch data from the URL and process it\n",
    "        events_list = get_event_dict(url)\n",
    "\n",
    "        # Convert the list of dictionaries to a DataFrame\n",
    "        df = pd.DataFrame(events_list)\n",
    "        df['month'] = current_month\n",
    "        df['year'] = current_year\n",
    "        # Append the DataFrame to the list\n",
    "        dfs.append(df)\n",
    "\n",
    "    # Update the start date for the next iteration\n",
    "    start_date = current_date\n",
    "\n",
    "# Concatenate all DataFrames into a single DataFrame\n",
    "final_df = pd.concat(dfs, ignore_index=True)"
   ]
  },
  {
   "cell_type": "code",
   "execution_count": 0,
   "metadata": {
    "application/vnd.databricks.v1+cell": {
     "cellMetadata": {
      "byteLimit": 2048000,
      "rowLimit": 10000
     },
     "inputWidgets": {},
     "nuid": "a14ef73f-05fb-4dce-a581-d9caa980de11",
     "showTitle": false,
     "title": ""
    }
   },
   "outputs": [],
   "source": [
    "#\"eventTime\":\"2024-01-01 11:43:06\"\n",
    "\n",
    "new_df = final_df.copy()\n"
   ]
  },
  {
   "cell_type": "code",
   "execution_count": 0,
   "metadata": {
    "application/vnd.databricks.v1+cell": {
     "cellMetadata": {
      "byteLimit": 2048000,
      "rowLimit": 10000
     },
     "inputWidgets": {},
     "nuid": "b6846cc2-3ef0-49d0-a162-22e5f5858479",
     "showTitle": false,
     "title": ""
    }
   },
   "outputs": [],
   "source": [
    "\n",
    "# Split the 'Weekday' column into two columns: 'Weekday' and 'WeekdayNum'\n",
    "new_df[['weekday', 'WeekdayNum']] = new_df['weekday'].str.extract(r'([a-zA-Z]+) (\\d*)', expand=True)\n",
    "\n",
    "# Convert 'WeekdayNum' to numeric (integer), treating empty strings as NaN\n",
    "new_df['WeekdayNum'] = pd.to_numeric(new_df['WeekdayNum'], errors='coerce', downcast='integer')\n",
    "\n"
   ]
  },
  {
   "cell_type": "code",
   "execution_count": 0,
   "metadata": {
    "application/vnd.databricks.v1+cell": {
     "cellMetadata": {
      "byteLimit": 2048000,
      "rowLimit": 10000
     },
     "inputWidgets": {},
     "nuid": "031d0cc9-d57e-4321-b8cc-a1343c28d820",
     "showTitle": false,
     "title": ""
    }
   },
   "outputs": [],
   "source": [
    "# Display the updated DataFrame\n",
    "reduced_df = new_df[[\"weekday\", \"eventTime\", \"eventTitle\",\"month\", \"year\", \"WeekdayNum\"]]"
   ]
  },
  {
   "cell_type": "code",
   "execution_count": 0,
   "metadata": {
    "application/vnd.databricks.v1+cell": {
     "cellMetadata": {
      "byteLimit": 2048000,
      "rowLimit": 10000
     },
     "inputWidgets": {},
     "nuid": "a0f7bad0-c602-4e94-af2c-32038396102f",
     "showTitle": false,
     "title": ""
    }
   },
   "outputs": [],
   "source": [
    "reduced_df"
   ]
  },
  {
   "cell_type": "code",
   "execution_count": 0,
   "metadata": {
    "application/vnd.databricks.v1+cell": {
     "cellMetadata": {
      "byteLimit": 2048000,
      "rowLimit": 10000
     },
     "inputWidgets": {},
     "nuid": "88a7d606-20a2-4171-932b-21116e7889f0",
     "showTitle": false,
     "title": ""
    }
   },
   "outputs": [],
   "source": [
    "reduced_df['combined_eventTime'] = (\n",
    "    reduced_df['year'].astype(str) + '-' +\n",
    "    reduced_df['month'].astype(str).str.zfill(2) + '-' +\n",
    "    reduced_df['WeekdayNum'].astype(str).str.zfill(2) + ' ' +\n",
    "    reduced_df['eventTime'] + ':00'\n",
    ")"
   ]
  },
  {
   "cell_type": "code",
   "execution_count": 0,
   "metadata": {
    "application/vnd.databricks.v1+cell": {
     "cellMetadata": {
      "byteLimit": 2048000,
      "rowLimit": 10000
     },
     "inputWidgets": {},
     "nuid": "fb67bce1-2984-494f-ad87-9e7c4d9543d0",
     "showTitle": false,
     "title": ""
    }
   },
   "outputs": [],
   "source": [
    "def convert_to_24_hour_format(time_str):\n",
    "    dt_obj = datetime.strptime(time_str, '%I:%M%p')\n",
    "    return dt_obj.strftime('%H:%M:%S')"
   ]
  },
  {
   "cell_type": "code",
   "execution_count": 0,
   "metadata": {
    "application/vnd.databricks.v1+cell": {
     "cellMetadata": {
      "byteLimit": 2048000,
      "rowLimit": 10000
     },
     "inputWidgets": {},
     "nuid": "2f362af4-5d28-471f-9b0b-d66b15d88905",
     "showTitle": false,
     "title": ""
    }
   },
   "outputs": [],
   "source": [
    "reduced_df['combined_eventTime_fixed'] = (\n",
    "    reduced_df['year'].astype(str) + '-' +\n",
    "    reduced_df['month'].astype(str).str.zfill(2) + '-' +\n",
    "    reduced_df['WeekdayNum'].astype(str).str.zfill(2) + ' ' +\n",
    "    reduced_df['eventTime'].apply(convert_to_24_hour_format)\n",
    ")"
   ]
  },
  {
   "cell_type": "code",
   "execution_count": 0,
   "metadata": {
    "application/vnd.databricks.v1+cell": {
     "cellMetadata": {
      "byteLimit": 2048000,
      "rowLimit": 10000
     },
     "inputWidgets": {},
     "nuid": "f2cc7568-dbd5-4cd8-beab-9ce72b0498f5",
     "showTitle": false,
     "title": ""
    }
   },
   "outputs": [],
   "source": [
    "#me connected on the 17th at \"playerId\":2,\"eventTime\":\"2024-01-17 10:07:30\",\"serverId\":11,\n",
    "# 2024-01-17 10:07:00:00\n",
    "#local time: 19:07\n",
    "\n",
    "reduced_df"
   ]
  },
  {
   "cell_type": "code",
   "execution_count": 0,
   "metadata": {
    "application/vnd.databricks.v1+cell": {
     "cellMetadata": {
      "byteLimit": 2048000,
      "rowLimit": 10000
     },
     "inputWidgets": {},
     "nuid": "fd63afc7-c5d2-44de-9dfc-823cea9cc429",
     "showTitle": false,
     "title": ""
    }
   },
   "outputs": [],
   "source": [
    "import pytz"
   ]
  },
  {
   "cell_type": "code",
   "execution_count": 0,
   "metadata": {
    "application/vnd.databricks.v1+cell": {
     "cellMetadata": {
      "byteLimit": 2048000,
      "rowLimit": 10000
     },
     "inputWidgets": {},
     "nuid": "0ea9f58f-61c5-47bf-bc83-67a3334b340d",
     "showTitle": false,
     "title": ""
    }
   },
   "outputs": [],
   "source": [
    "reduced_df = reduced_df[['eventTitle', 'combined_eventTime_fixed', 'weekday']]\n",
    "\n",
    "# Rename the 'combined_eventTime_fixed' column to 'eventTime'\n",
    "reduced_df.rename(columns={'combined_eventTime_fixed': 'eventTimeStart'}, inplace=True)\n",
    "\n",
    "# Display the updated DataFrame\n",
    "print(reduced_df)"
   ]
  },
  {
   "cell_type": "code",
   "execution_count": 0,
   "metadata": {
    "application/vnd.databricks.v1+cell": {
     "cellMetadata": {
      "byteLimit": 2048000,
      "rowLimit": 10000
     },
     "inputWidgets": {},
     "nuid": "89c9293f-9d34-4952-8deb-c30ecf3acf63",
     "showTitle": false,
     "title": ""
    }
   },
   "outputs": [],
   "source": [
    "#Snippet to change the timezone of the eventTime\n",
    "# # Assuming your 'eventTime' column is in string format, convert it to datetime\n",
    "# reduced_df['eventTimeStart'] = pd.to_datetime(reduced_df['eventTimeStart'])\n",
    "\n",
    "# # Define time zones\n",
    "# us_timezone = pytz.timezone('America/Los_Angeles')  # Adjust this based on the actual timezone\n",
    "# norway_timezone = pytz.timezone('Europe/Oslo')\n",
    "\n",
    "# # Convert time to Norway timezone\n",
    "# reduced_df['eventTime_norway'] = reduced_df['eventTimeStart'].dt.tz_localize(us_timezone).dt.tz_convert(norway_timezone)\n",
    "\n",
    "# # Format the time in 24-hour format\n",
    "# reduced_df['eventTime_norway'] = reduced_df['eventTime_norway'].dt.strftime('%Y-%m-%d %H:%M:%S')"
   ]
  },
  {
   "cell_type": "code",
   "execution_count": 0,
   "metadata": {
    "application/vnd.databricks.v1+cell": {
     "cellMetadata": {
      "byteLimit": 2048000,
      "rowLimit": 10000
     },
     "inputWidgets": {},
     "nuid": "9eb8dc4a-8750-47c5-a55c-96393289fb85",
     "showTitle": false,
     "title": ""
    }
   },
   "outputs": [],
   "source": [
    "sparkdf = spark.createDataFrame(reduced_df)\n",
    "\n",
    "sparkdf.write.mode('overwrite').saveAsTable(\"adb_hibak.bronze_tf2_\"+filename)"
   ]
  },
  {
   "cell_type": "code",
   "execution_count": 0,
   "metadata": {
    "application/vnd.databricks.v1+cell": {
     "cellMetadata": {
      "byteLimit": 2048000,
      "rowLimit": 10000
     },
     "inputWidgets": {},
     "nuid": "a0e3424f-0759-473f-b35e-1f56b4399cb9",
     "showTitle": false,
     "title": ""
    }
   },
   "outputs": [],
   "source": [
    "sparkdf.display()"
   ]
  }
 ],
 "metadata": {
  "application/vnd.databricks.v1+notebook": {
   "dashboards": [],
   "language": "python",
   "notebookMetadata": {
    "pythonIndentUnit": 4
   },
   "notebookName": "bronze_dump_events_from_community_page_pyspark",
   "widgets": {}
  },
  "kernelspec": {
   "display_name": "Python 3",
   "language": "python",
   "name": "python3"
  },
  "language_info": {
   "codemirror_mode": {
    "name": "ipython",
    "version": 3
   },
   "file_extension": ".py",
   "mimetype": "text/x-python",
   "name": "python",
   "nbconvert_exporter": "python",
   "pygments_lexer": "ipython3",
   "version": "3.11.3"
  }
 },
 "nbformat": 4,
 "nbformat_minor": 0
}
