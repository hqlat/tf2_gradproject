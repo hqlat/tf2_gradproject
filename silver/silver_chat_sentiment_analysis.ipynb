{
 "cells": [
  {
   "cell_type": "code",
   "execution_count": 0,
   "metadata": {
    "application/vnd.databricks.v1+cell": {
     "cellMetadata": {
      "byteLimit": 2048000,
      "rowLimit": 10000
     },
     "inputWidgets": {},
     "nuid": "ce4ce2fa-c124-451c-b953-456cf89553f5",
     "showTitle": false,
     "title": ""
    }
   },
   "outputs": [],
   "source": [
    "!pip install transformers"
   ]
  },
  {
   "cell_type": "code",
   "execution_count": 0,
   "metadata": {
    "application/vnd.databricks.v1+cell": {
     "cellMetadata": {
      "byteLimit": 2048000,
      "rowLimit": 10000
     },
     "inputWidgets": {},
     "nuid": "00f58293-b6df-468f-b5e1-0b3651cca8d9",
     "showTitle": false,
     "title": ""
    }
   },
   "outputs": [],
   "source": [
    "!pip install torch"
   ]
  },
  {
   "cell_type": "code",
   "execution_count": 0,
   "metadata": {
    "application/vnd.databricks.v1+cell": {
     "cellMetadata": {
      "byteLimit": 2048000,
      "rowLimit": 10000
     },
     "inputWidgets": {},
     "nuid": "b676d59c-f175-42f2-8875-dbf2b42d8043",
     "showTitle": false,
     "title": ""
    }
   },
   "outputs": [],
   "source": [
    "!pip install langdetect"
   ]
  },
  {
   "cell_type": "code",
   "execution_count": 0,
   "metadata": {
    "application/vnd.databricks.v1+cell": {
     "cellMetadata": {
      "byteLimit": 2048000,
      "rowLimit": 10000
     },
     "inputWidgets": {},
     "nuid": "16177a45-9ed1-47a9-95b9-184ddb798cd4",
     "showTitle": false,
     "title": ""
    }
   },
   "outputs": [],
   "source": [
    "import pyspark\n",
    "from transformers import pipeline\n",
    "import pandas as pd\n",
    "from langdetect import detect, DetectorFactory\n",
    "import matplotlib.pyplot as plt"
   ]
  },
  {
   "cell_type": "code",
   "execution_count": 0,
   "metadata": {
    "application/vnd.databricks.v1+cell": {
     "cellMetadata": {
      "byteLimit": 2048000,
      "implicitDf": true,
      "rowLimit": 10000
     },
     "inputWidgets": {},
     "nuid": "cf113d4e-88a3-4044-bb37-a56856eb834e",
     "showTitle": false,
     "title": ""
    }
   },
   "outputs": [],
   "source": [
    "%sql\n",
    "\n",
    "SELECT * FROM adb_hibak.silver_tf2_chat;"
   ]
  },
  {
   "cell_type": "code",
   "execution_count": 0,
   "metadata": {
    "application/vnd.databricks.v1+cell": {
     "cellMetadata": {
      "byteLimit": 2048000,
      "rowLimit": 10000
     },
     "inputWidgets": {},
     "nuid": "bc647b20-0250-4772-8b3a-1fb502b4fd10",
     "showTitle": false,
     "title": ""
    }
   },
   "outputs": [],
   "source": [
    "# Converting spark DF to pandas DF\n",
    "df_chat = _sqldf\n",
    "df_chat = df_chat.toPandas()"
   ]
  },
  {
   "cell_type": "code",
   "execution_count": 0,
   "metadata": {
    "application/vnd.databricks.v1+cell": {
     "cellMetadata": {
      "byteLimit": 2048000,
      "rowLimit": 10000
     },
     "inputWidgets": {},
     "nuid": "59026d2d-0061-4b70-8cb1-99c7b4752bf0",
     "showTitle": false,
     "title": ""
    }
   },
   "outputs": [],
   "source": [
    "# Creating a copy DF that will only deal with date and not time. \n",
    "df_chat_date = df_chat.copy()"
   ]
  },
  {
   "cell_type": "code",
   "execution_count": 0,
   "metadata": {
    "application/vnd.databricks.v1+cell": {
     "cellMetadata": {
      "byteLimit": 2048000,
      "rowLimit": 10000
     },
     "inputWidgets": {},
     "nuid": "7cf2c1a5-8b34-4417-9fd9-c00abdfde95f",
     "showTitle": false,
     "title": ""
    }
   },
   "outputs": [],
   "source": [
    "# Remove time from datetime in eventTime column\n",
    "df_chat_date['eventTime'] = pd.to_datetime(df_chat_date['eventTime']).dt.date"
   ]
  },
  {
   "cell_type": "code",
   "execution_count": 0,
   "metadata": {
    "application/vnd.databricks.v1+cell": {
     "cellMetadata": {
      "byteLimit": 2048000,
      "rowLimit": 10000
     },
     "inputWidgets": {},
     "nuid": "c75db8c7-9f17-408e-b2b0-7ed6c6d67512",
     "showTitle": false,
     "title": ""
    }
   },
   "outputs": [],
   "source": [
    "# Remove all rows with empty values in message.\n",
    "df_chat = df_chat[df_chat['message'].str.strip() != '']\n",
    "df_chat_date = df_chat_date[df_chat_date['message'].str.strip() != '']"
   ]
  },
  {
   "cell_type": "code",
   "execution_count": 0,
   "metadata": {
    "application/vnd.databricks.v1+cell": {
     "cellMetadata": {
      "byteLimit": 2048000,
      "rowLimit": 10000
     },
     "inputWidgets": {},
     "nuid": "d3369484-9f98-43d5-b3cd-e05a451064b8",
     "showTitle": false,
     "title": ""
    }
   },
   "outputs": [],
   "source": [
    "df_chat.display()"
   ]
  },
  {
   "cell_type": "code",
   "execution_count": 0,
   "metadata": {
    "application/vnd.databricks.v1+cell": {
     "cellMetadata": {
      "byteLimit": 2048000,
      "rowLimit": 10000
     },
     "inputWidgets": {},
     "nuid": "398372d1-dd80-4545-85a1-5ca3608b2661",
     "showTitle": false,
     "title": ""
    }
   },
   "outputs": [],
   "source": [
    "df_chat_date.display()"
   ]
  },
  {
   "cell_type": "code",
   "execution_count": 0,
   "metadata": {
    "application/vnd.databricks.v1+cell": {
     "cellMetadata": {
      "byteLimit": 2048000,
      "rowLimit": 10000
     },
     "inputWidgets": {},
     "nuid": "cc5366cc-fb6b-4ed0-8bab-568d3aa94c84",
     "showTitle": false,
     "title": ""
    }
   },
   "outputs": [],
   "source": [
    "chat_sentiment_classifier = pipeline(\n",
    "    model=\"lxyuan/distilbert-base-multilingual-cased-sentiments-student\", \n",
    "    return_all_scores=True\n",
    ")"
   ]
  },
  {
   "cell_type": "code",
   "execution_count": 0,
   "metadata": {
    "application/vnd.databricks.v1+cell": {
     "cellMetadata": {
      "byteLimit": 2048000,
      "rowLimit": 10000
     },
     "inputWidgets": {},
     "nuid": "6c276ae3-62d9-47cf-b044-4600e536a8ff",
     "showTitle": false,
     "title": ""
    }
   },
   "outputs": [],
   "source": [
    "df_chat.info()"
   ]
  },
  {
   "cell_type": "code",
   "execution_count": 0,
   "metadata": {
    "application/vnd.databricks.v1+cell": {
     "cellMetadata": {
      "byteLimit": 2048000,
      "rowLimit": 10000
     },
     "inputWidgets": {},
     "nuid": "cb606171-5cc5-4046-a76e-5477c127f3db",
     "showTitle": false,
     "title": ""
    }
   },
   "outputs": [],
   "source": [
    "# Convert messages to string in both DFs\n",
    "\n",
    "df_chat = df_chat.copy()\n",
    "df_chat.loc[:, 'message'] = df_chat['message'].astype(str)\n",
    "\n",
    "df_chat_date = df_chat_date.copy()\n",
    "df_chat_date.loc[:, 'message'] = df_chat_date['message'].astype(str)"
   ]
  },
  {
   "cell_type": "code",
   "execution_count": 0,
   "metadata": {
    "application/vnd.databricks.v1+cell": {
     "cellMetadata": {
      "byteLimit": 2048000,
      "rowLimit": 10000
     },
     "inputWidgets": {},
     "nuid": "ca246674-8680-464b-ae09-b126b088fda4",
     "showTitle": false,
     "title": ""
    }
   },
   "outputs": [],
   "source": [
    "# Create a new column with the sentiment scores.\n",
    "\n",
    "df_chat['sentiment_scores'] = df_chat['message'].apply(chat_sentiment_classifier)"
   ]
  },
  {
   "cell_type": "code",
   "execution_count": 0,
   "metadata": {
    "application/vnd.databricks.v1+cell": {
     "cellMetadata": {
      "byteLimit": 2048000,
      "rowLimit": 10000
     },
     "inputWidgets": {},
     "nuid": "9b447389-0ec8-4cbd-af0a-1563c2cd3770",
     "showTitle": false,
     "title": ""
    }
   },
   "outputs": [],
   "source": [
    "# Extract the sentiment scores in the correct format.\n",
    "# Original output from chat_sentiment_classifier returns a list in a list with three dictionaries with label positive, neutral and negative\n",
    "\n",
    "def extract_sentiment_info(sentiment_scores):\n",
    "    if sentiment_scores:\n",
    "        sentiment_info = sentiment_scores[0]\n",
    "        return {\n",
    "            'positive': sentiment_info[0]['score'],\n",
    "            'neutral': sentiment_info[1]['score'],\n",
    "            'negative': sentiment_info[2]['score']\n",
    "        }\n",
    "    else:\n",
    "        return {\n",
    "            'positive': None,\n",
    "            'neutral': None,\n",
    "            'negative': None\n",
    "        }"
   ]
  },
  {
   "cell_type": "code",
   "execution_count": 0,
   "metadata": {
    "application/vnd.databricks.v1+cell": {
     "cellMetadata": {
      "byteLimit": 2048000,
      "rowLimit": 10000
     },
     "inputWidgets": {},
     "nuid": "4d6fa04a-ea41-4405-96d9-bd3255fb8fc5",
     "showTitle": false,
     "title": ""
    }
   },
   "outputs": [],
   "source": [
    "df_chat[['positive', 'neutral', 'negative']] = df_chat['sentiment_scores'].apply(extract_sentiment_info).apply(pd.Series)"
   ]
  },
  {
   "cell_type": "code",
   "execution_count": 0,
   "metadata": {
    "application/vnd.databricks.v1+cell": {
     "cellMetadata": {
      "byteLimit": 2048000,
      "rowLimit": 10000
     },
     "inputWidgets": {},
     "nuid": "46f124dd-1b6b-42c8-8371-72bb15f1f72d",
     "showTitle": false,
     "title": ""
    }
   },
   "outputs": [],
   "source": [
    "df_chat.display()"
   ]
  },
  {
   "cell_type": "code",
   "execution_count": 0,
   "metadata": {
    "application/vnd.databricks.v1+cell": {
     "cellMetadata": {
      "byteLimit": 2048000,
      "rowLimit": 10000
     },
     "inputWidgets": {},
     "nuid": "02390d00-a567-48ac-b596-ee003fb3516a",
     "showTitle": false,
     "title": ""
    }
   },
   "outputs": [],
   "source": [
    "df_chat.drop('sentiment_scores', axis=1, inplace=True)"
   ]
  },
  {
   "cell_type": "code",
   "execution_count": 0,
   "metadata": {
    "application/vnd.databricks.v1+cell": {
     "cellMetadata": {
      "byteLimit": 2048000,
      "rowLimit": 10000
     },
     "inputWidgets": {},
     "nuid": "d4808f13-53c6-431c-88ab-b2a4a4410b92",
     "showTitle": false,
     "title": ""
    }
   },
   "outputs": [],
   "source": [
    "df_chat.display()"
   ]
  },
  {
   "cell_type": "code",
   "execution_count": 0,
   "metadata": {
    "application/vnd.databricks.v1+cell": {
     "cellMetadata": {
      "byteLimit": 2048000,
      "rowLimit": 10000
     },
     "inputWidgets": {},
     "nuid": "c1b594a8-b25e-423f-98b3-5ceb8b73fe88",
     "showTitle": false,
     "title": ""
    }
   },
   "outputs": [],
   "source": [
    "# Set a seed for the langdetect detector for reproducibility\n",
    "DetectorFactory.seed = 0\n",
    "\n",
    "# Function to detect language, with error handling\n",
    "def detect_language(text):\n",
    "    try:\n",
    "        return detect(text)\n",
    "    except:\n",
    "        return 'unknown'"
   ]
  },
  {
   "cell_type": "code",
   "execution_count": 0,
   "metadata": {
    "application/vnd.databricks.v1+cell": {
     "cellMetadata": {
      "byteLimit": 2048000,
      "rowLimit": 10000
     },
     "inputWidgets": {},
     "nuid": "47067647-c044-474e-aa28-da186f286a85",
     "showTitle": false,
     "title": ""
    }
   },
   "outputs": [],
   "source": [
    "# Create a new language column with the detected language for each message\n",
    "\n",
    "df_chat['language'] = df_chat['message'].apply(detect_language)\n"
   ]
  },
  {
   "cell_type": "code",
   "execution_count": 0,
   "metadata": {
    "application/vnd.databricks.v1+cell": {
     "cellMetadata": {
      "byteLimit": 2048000,
      "rowLimit": 10000
     },
     "inputWidgets": {},
     "nuid": "ca014b95-e889-4127-88cd-b53fe26def3f",
     "showTitle": false,
     "title": ""
    }
   },
   "outputs": [],
   "source": [
    "df_chat.head()"
   ]
  },
  {
   "cell_type": "code",
   "execution_count": 0,
   "metadata": {
    "application/vnd.databricks.v1+cell": {
     "cellMetadata": {
      "byteLimit": 2048000,
      "rowLimit": 10000
     },
     "inputWidgets": {},
     "nuid": "20408355-b5f1-4537-982c-b27ffaab3821",
     "showTitle": false,
     "title": ""
    }
   },
   "outputs": [],
   "source": [
    "language_fullname = {\n",
    "    'af': 'Afrikaans',\n",
    "    'bg': 'Bulgarian',\n",
    "    'ca': 'Catalan',\n",
    "    'cs': 'Czech',\n",
    "    'cy': 'Welsh',\n",
    "    'da': 'Danish',\n",
    "    'de': 'German',\n",
    "    'en': 'English',\n",
    "    'es': 'Spanish',\n",
    "    'et': 'Estonian',\n",
    "    'fi': 'Finnish',\n",
    "    'fr': 'French',\n",
    "    'hr': 'Croatian',\n",
    "    'hu': 'Hungarian',\n",
    "    'id': 'Indonesian',\n",
    "    'it': 'Italian',\n",
    "    'lt': 'Lithuanian',\n",
    "    'lv': 'Latvian',\n",
    "    'mk': 'Macedonian',\n",
    "    'nl': 'Dutch',\n",
    "    'no': 'Norwegian',\n",
    "    'pl': 'Polish',\n",
    "    'pt': 'Portuguese',\n",
    "    'ro': 'Romanian',\n",
    "    'ru': 'Russian',\n",
    "    'sk': 'Slovak',\n",
    "    'sl': 'Slovenian',\n",
    "    'so': 'Somali',\n",
    "    'sq': 'Albanian',\n",
    "    'sv': 'Swedish',\n",
    "    'sw': 'Swahili',\n",
    "    'tl': 'Tagalog',\n",
    "    'tr': 'Turkish',\n",
    "    'uk': 'ukrainian',\n",
    "    'uknown': 'unknown',\n",
    "    'vi': 'Vietnamese'\n",
    "}"
   ]
  },
  {
   "cell_type": "code",
   "execution_count": 0,
   "metadata": {
    "application/vnd.databricks.v1+cell": {
     "cellMetadata": {
      "byteLimit": 2048000,
      "rowLimit": 10000
     },
     "inputWidgets": {},
     "nuid": "22b4e015-c906-41f4-a5be-ddac73ad7044",
     "showTitle": false,
     "title": ""
    }
   },
   "outputs": [],
   "source": [
    "df_chat['language'] = df_chat['language'].replace(language_fullname)"
   ]
  },
  {
   "cell_type": "code",
   "execution_count": 0,
   "metadata": {
    "application/vnd.databricks.v1+cell": {
     "cellMetadata": {
      "byteLimit": 2048000,
      "rowLimit": 10000
     },
     "inputWidgets": {},
     "nuid": "1fa29cae-cb71-46cb-b026-d1612b455ea9",
     "showTitle": false,
     "title": ""
    }
   },
   "outputs": [],
   "source": [
    "df_chat.display()"
   ]
  },
  {
   "cell_type": "code",
   "execution_count": 0,
   "metadata": {
    "application/vnd.databricks.v1+cell": {
     "cellMetadata": {
      "byteLimit": 2048000,
      "rowLimit": 10000
     },
     "inputWidgets": {},
     "nuid": "018eac8c-6d20-4e9f-a30d-302351931c62",
     "showTitle": false,
     "title": ""
    }
   },
   "outputs": [],
   "source": [
    "df_chat.groupby('language').size()"
   ]
  },
  {
   "cell_type": "code",
   "execution_count": 0,
   "metadata": {
    "application/vnd.databricks.v1+cell": {
     "cellMetadata": {
      "byteLimit": 2048000,
      "rowLimit": 10000
     },
     "inputWidgets": {},
     "nuid": "697f8934-a83b-4083-90c6-4d0985df1260",
     "showTitle": false,
     "title": ""
    }
   },
   "outputs": [],
   "source": [
    "# Count the number of languages.\n",
    "\n",
    "language_counts = df_chat['language'].value_counts()"
   ]
  },
  {
   "cell_type": "code",
   "execution_count": 0,
   "metadata": {
    "application/vnd.databricks.v1+cell": {
     "cellMetadata": {
      "byteLimit": 2048000,
      "rowLimit": 10000
     },
     "inputWidgets": {},
     "nuid": "30f8cf12-f8b5-43dd-8816-1bd343f14571",
     "showTitle": false,
     "title": ""
    }
   },
   "outputs": [],
   "source": [
    "# Create a bar chart\n",
    "plt.figure(figsize=(10, 6))\n",
    "language_counts.plot(kind='bar')\n",
    "plt.title('Occurrence of Each Language in Chat Messages')\n",
    "plt.xlabel('Language')\n",
    "plt.ylabel('Number of Messages')\n",
    "plt.xticks(rotation=45)\n",
    "plt.show()"
   ]
  },
  {
   "cell_type": "code",
   "execution_count": 0,
   "metadata": {
    "application/vnd.databricks.v1+cell": {
     "cellMetadata": {
      "byteLimit": 2048000,
      "rowLimit": 10000
     },
     "inputWidgets": {},
     "nuid": "551b258d-34ca-4e7f-9b23-959a788e18a3",
     "showTitle": false,
     "title": ""
    }
   },
   "outputs": [],
   "source": [
    "# Create a dataframe with only English messages\n",
    "df_chat_en = df_chat[df_chat['language'] == 'English']"
   ]
  },
  {
   "cell_type": "code",
   "execution_count": 0,
   "metadata": {
    "application/vnd.databricks.v1+cell": {
     "cellMetadata": {
      "byteLimit": 2048000,
      "rowLimit": 10000
     },
     "inputWidgets": {},
     "nuid": "f736ecc3-be19-4101-ac29-e4a4c2acdafe",
     "showTitle": false,
     "title": ""
    }
   },
   "outputs": [],
   "source": [
    "df_chat_en.display()"
   ]
  },
  {
   "cell_type": "code",
   "execution_count": 0,
   "metadata": {
    "application/vnd.databricks.v1+cell": {
     "cellMetadata": {
      "byteLimit": 2048000,
      "rowLimit": 10000
     },
     "inputWidgets": {},
     "nuid": "11baca9e-ddf2-4e3b-a545-e207d8c7f5d9",
     "showTitle": false,
     "title": ""
    }
   },
   "outputs": [],
   "source": [
    "# Convert the pandas DF to a spark DF\n",
    "spark_df_chat_en = spark.createDataFrame(df_chat_en)\n",
    "spark_df_chat_en.display()"
   ]
  },
  {
   "cell_type": "code",
   "execution_count": 0,
   "metadata": {
    "application/vnd.databricks.v1+cell": {
     "cellMetadata": {
      "byteLimit": 2048000,
      "rowLimit": 10000
     },
     "inputWidgets": {},
     "nuid": "b9436c86-d5b9-410f-b328-003011c25f4c",
     "showTitle": false,
     "title": ""
    }
   },
   "outputs": [],
   "source": [
    "# Convert the spark DF to a table in the db.\n",
    "spark_df_chat_en.write.mode('overwrite').saveAsTable(\"adb_hibak.silver_tf2_chat_time_sentiment_analysis_en\")"
   ]
  },
  {
   "cell_type": "code",
   "execution_count": 0,
   "metadata": {
    "application/vnd.databricks.v1+cell": {
     "cellMetadata": {
      "byteLimit": 2048000,
      "rowLimit": 10000
     },
     "inputWidgets": {},
     "nuid": "d1f46479-fe2a-4d29-8803-8e4f42165987",
     "showTitle": false,
     "title": ""
    }
   },
   "outputs": [],
   "source": [
    "# Convert the pandas DF to a spark DF\n",
    "spark_df_chat_all_languages = spark.createDataFrame(df_chat)\n",
    "spark_df_chat_all_languages.display()"
   ]
  },
  {
   "cell_type": "code",
   "execution_count": 0,
   "metadata": {
    "application/vnd.databricks.v1+cell": {
     "cellMetadata": {
      "byteLimit": 2048000,
      "rowLimit": 10000
     },
     "inputWidgets": {},
     "nuid": "b8d1c5a7-f2b0-466a-97b2-f59dad0ee127",
     "showTitle": false,
     "title": ""
    }
   },
   "outputs": [],
   "source": [
    "# Convert the spark DF to a table in the db.\n",
    "spark_df_chat_all_languages.write.mode('overwrite').saveAsTable(\"adb_hibak.silver_tf2_chat_time_sentiment_analysis_all_languages\")"
   ]
  }
 ],
 "metadata": {
  "application/vnd.databricks.v1+notebook": {
   "dashboards": [],
   "language": "python",
   "notebookMetadata": {
    "mostRecentlyExecutedCommandWithImplicitDF": {
     "commandId": 2576358878859724,
     "dataframes": [
      "_sqldf"
     ]
    },
    "pythonIndentUnit": 4
   },
   "notebookName": "silver_chat_sentiment_analysis",
   "widgets": {}
  },
  "kernelspec": {
   "display_name": "Python 3",
   "language": "python",
   "name": "python3"
  },
  "language_info": {
   "codemirror_mode": {
    "name": "ipython",
    "version": 3
   },
   "file_extension": ".py",
   "mimetype": "text/x-python",
   "name": "python",
   "nbconvert_exporter": "python",
   "pygments_lexer": "ipython3",
   "version": "3.11.7"
  }
 },
 "nbformat": 4,
 "nbformat_minor": 0
}
