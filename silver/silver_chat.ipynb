{
 "cells": [
  {
   "cell_type": "code",
   "execution_count": 0,
   "metadata": {
    "application/vnd.databricks.v1+cell": {
     "cellMetadata": {
      "byteLimit": 2048000,
      "rowLimit": 10000
     },
     "inputWidgets": {},
     "nuid": "16177a45-9ed1-47a9-95b9-184ddb798cd4",
     "showTitle": false,
     "title": ""
    }
   },
   "outputs": [],
   "source": [
    "import pyspark\n",
    "import pandas as pd"
   ]
  },
  {
   "cell_type": "code",
   "execution_count": 0,
   "metadata": {
    "application/vnd.databricks.v1+cell": {
     "cellMetadata": {
      "byteLimit": 2048000,
      "implicitDf": true,
      "rowLimit": 10000
     },
     "inputWidgets": {},
     "nuid": "cf113d4e-88a3-4044-bb37-a56856eb834e",
     "showTitle": false,
     "title": ""
    }
   },
   "outputs": [],
   "source": [
    "%sql\n",
    "\n",
    "SELECT * FROM adb_hibak.bronze_hlstats_events_chat;"
   ]
  },
  {
   "cell_type": "code",
   "execution_count": 0,
   "metadata": {
    "application/vnd.databricks.v1+cell": {
     "cellMetadata": {
      "byteLimit": 2048000,
      "rowLimit": 10000
     },
     "inputWidgets": {},
     "nuid": "bc647b20-0250-4772-8b3a-1fb502b4fd10",
     "showTitle": false,
     "title": ""
    }
   },
   "outputs": [],
   "source": [
    "df_chat = _sqldf\n",
    "df_chat = df_chat.toPandas()"
   ]
  },
  {
   "cell_type": "code",
   "execution_count": 0,
   "metadata": {
    "application/vnd.databricks.v1+cell": {
     "cellMetadata": {
      "byteLimit": 2048000,
      "rowLimit": 10000
     },
     "inputWidgets": {},
     "nuid": "3c38f482-a74a-4aff-9011-dd44b352f2bf",
     "showTitle": false,
     "title": ""
    }
   },
   "outputs": [],
   "source": [
    "df_chat.columns"
   ]
  },
  {
   "cell_type": "code",
   "execution_count": 0,
   "metadata": {
    "application/vnd.databricks.v1+cell": {
     "cellMetadata": {
      "byteLimit": 2048000,
      "rowLimit": 10000
     },
     "inputWidgets": {},
     "nuid": "318df963-13ef-4bb1-81f7-3b3da50707ef",
     "showTitle": false,
     "title": ""
    }
   },
   "outputs": [],
   "source": [
    "features = ['eventTime', 'serverId', 'map', 'playerId','message_mode','message']\n",
    "\n",
    "df_chat = df_chat[features]"
   ]
  },
  {
   "cell_type": "code",
   "execution_count": 0,
   "metadata": {
    "application/vnd.databricks.v1+cell": {
     "cellMetadata": {
      "byteLimit": 2048000,
      "rowLimit": 10000
     },
     "inputWidgets": {},
     "nuid": "7d2db91e-24f3-4204-a6e3-ce3ac7abe4db",
     "showTitle": false,
     "title": ""
    }
   },
   "outputs": [],
   "source": [
    "df_chat.display()"
   ]
  },
  {
   "cell_type": "code",
   "execution_count": 0,
   "metadata": {
    "application/vnd.databricks.v1+cell": {
     "cellMetadata": {
      "byteLimit": 2048000,
      "rowLimit": 10000
     },
     "inputWidgets": {},
     "nuid": "92a332bc-a832-4613-8b25-39539f312007",
     "showTitle": false,
     "title": ""
    }
   },
   "outputs": [],
   "source": [
    "# Removing prefix workshop/ and .ugc in map column\n",
    "df_chat['map'] = df_chat['map'].str.replace(r'workshop\\/(.+?)\\.ugc.*', r'\\1', regex=True)"
   ]
  },
  {
   "cell_type": "code",
   "execution_count": 0,
   "metadata": {
    "application/vnd.databricks.v1+cell": {
     "cellMetadata": {
      "byteLimit": 2048000,
      "rowLimit": 10000
     },
     "inputWidgets": {},
     "nuid": "52158d65-584b-406d-a95f-6a6a6dbaf8b8",
     "showTitle": false,
     "title": ""
    }
   },
   "outputs": [],
   "source": [
    "df_chat.groupby('map').size()"
   ]
  },
  {
   "cell_type": "code",
   "execution_count": 0,
   "metadata": {
    "application/vnd.databricks.v1+cell": {
     "cellMetadata": {
      "byteLimit": 2048000,
      "rowLimit": 10000
     },
     "inputWidgets": {},
     "nuid": "60dac2e5-39c6-4142-8800-470c4b4913ba",
     "showTitle": false,
     "title": ""
    }
   },
   "outputs": [],
   "source": [
    "# Create a dictionary with the fullnames and prefix of Game Modes in TF2.\n",
    "\n",
    "prefix_to_fullname = {\n",
    "    'arena_': 'arena',\n",
    "    'ad_': 'attack_defense',\n",
    "    'ctf_': 'capture_the_flag',\n",
    "    'cp_': 'control_point',\n",
    "    'koth_': 'king_of_the_hill',\n",
    "    'mvm_': 'mann_vs_machine',\n",
    "    'pass_': 'pass_time',\n",
    "    'pl_': 'payload',\n",
    "    'plr_': 'payload_race',\n",
    "    'pd_': 'player_destruction',\n",
    "    'rd_': 'robot_destruction',\n",
    "    'sd_': 'special_delivery',\n",
    "    'tc_': 'territorial_control',\n",
    "    'tr_': 'training_mode',\n",
    "    'vsh_': 'versus_saxton_hale',\n",
    "    'zi_': 'zombie_infection'\n",
    "}"
   ]
  },
  {
   "cell_type": "code",
   "execution_count": 0,
   "metadata": {
    "application/vnd.databricks.v1+cell": {
     "cellMetadata": {
      "byteLimit": 2048000,
      "rowLimit": 10000
     },
     "inputWidgets": {},
     "nuid": "15bcfa2e-6c3f-4176-97be-3d92b767790e",
     "showTitle": false,
     "title": ""
    }
   },
   "outputs": [],
   "source": [
    "# Change the prefix in map to full names for Gamemode for df_chat.\n",
    "for prefix, fullname in prefix_to_fullname.items():\n",
    "    df_chat['map'] = df_chat['map'].str.replace(f'^{prefix}', f'{fullname}.', regex=True)"
   ]
  },
  {
   "cell_type": "code",
   "execution_count": 0,
   "metadata": {
    "application/vnd.databricks.v1+cell": {
     "cellMetadata": {
      "byteLimit": 2048000,
      "rowLimit": 10000
     },
     "inputWidgets": {},
     "nuid": "9441dda5-4df0-4e12-b1ee-f263fc5dfab1",
     "showTitle": false,
     "title": ""
    }
   },
   "outputs": [],
   "source": [
    "# Remove all rows with empty values in map.\n",
    "df_chat = df_chat[df_chat['map'] != '']"
   ]
  },
  {
   "cell_type": "code",
   "execution_count": 0,
   "metadata": {
    "application/vnd.databricks.v1+cell": {
     "cellMetadata": {
      "byteLimit": 2048000,
      "rowLimit": 10000
     },
     "inputWidgets": {},
     "nuid": "a2f8e772-af3d-4d39-82b8-f4ea53c2db1e",
     "showTitle": false,
     "title": ""
    }
   },
   "outputs": [],
   "source": [
    "df_chat.groupby('map').size()"
   ]
  },
  {
   "cell_type": "code",
   "execution_count": 0,
   "metadata": {
    "application/vnd.databricks.v1+cell": {
     "cellMetadata": {
      "byteLimit": 2048000,
      "rowLimit": 10000
     },
     "inputWidgets": {},
     "nuid": "11baca9e-ddf2-4e3b-a545-e207d8c7f5d9",
     "showTitle": false,
     "title": ""
    }
   },
   "outputs": [],
   "source": [
    "# Convert the pandas DF to a spark DF\n",
    "spark_df_chat = spark.createDataFrame(df_chat)\n",
    "spark_df_chat.display()"
   ]
  },
  {
   "cell_type": "code",
   "execution_count": 0,
   "metadata": {
    "application/vnd.databricks.v1+cell": {
     "cellMetadata": {
      "byteLimit": 2048000,
      "rowLimit": 10000
     },
     "inputWidgets": {},
     "nuid": "b9436c86-d5b9-410f-b328-003011c25f4c",
     "showTitle": false,
     "title": ""
    }
   },
   "outputs": [],
   "source": [
    "# Convert the spark DF to a table in the db.\n",
    "spark_df_chat.write.mode('overwrite').saveAsTable(\"adb_hibak.silver_tf2_chat\")"
   ]
  }
 ],
 "metadata": {
  "application/vnd.databricks.v1+notebook": {
   "dashboards": [],
   "language": "python",
   "notebookMetadata": {
    "mostRecentlyExecutedCommandWithImplicitDF": {
     "commandId": 2576358878859625,
     "dataframes": [
      "_sqldf"
     ]
    },
    "pythonIndentUnit": 4
   },
   "notebookName": "silver_chat",
   "widgets": {}
  },
  "kernelspec": {
   "display_name": "Python 3",
   "language": "python",
   "name": "python3"
  },
  "language_info": {
   "codemirror_mode": {
    "name": "ipython",
    "version": 3
   },
   "file_extension": ".py",
   "mimetype": "text/x-python",
   "name": "python",
   "nbconvert_exporter": "python",
   "pygments_lexer": "ipython3",
   "version": "3.11.7"
  }
 },
 "nbformat": 4,
 "nbformat_minor": 0
}
