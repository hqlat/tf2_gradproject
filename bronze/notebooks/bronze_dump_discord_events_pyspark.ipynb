{
 "cells": [
  {
   "cell_type": "code",
   "execution_count": 0,
   "metadata": {
    "application/vnd.databricks.v1+cell": {
     "cellMetadata": {
      "byteLimit": 2048000,
      "rowLimit": 10000
     },
     "inputWidgets": {},
     "nuid": "931330ba-045f-4f4e-aa2f-e72e037f5f1b",
     "showTitle": false,
     "title": ""
    }
   },
   "outputs": [],
   "source": [
    "!pip install discord\n",
    "!pip install pyspark"
   ]
  },
  {
   "cell_type": "code",
   "execution_count": 0,
   "metadata": {
    "application/vnd.databricks.v1+cell": {
     "cellMetadata": {
      "byteLimit": 2048000,
      "rowLimit": 10000
     },
     "inputWidgets": {},
     "nuid": "858bf3ec-afea-40fe-b071-da0f5b628b90",
     "showTitle": false,
     "title": ""
    }
   },
   "outputs": [],
   "source": [
    "\n",
    "import discord\n",
    "from discord.ext import commands\n",
    "import pandas as pd\n",
    "from datetime import datetime, timedelta\n",
    "import pytz\n",
    "import pyspark\n",
    "from pyspark.sql.functions import col, from_utc_timestamp\n",
    "from pyspark.sql.types import StructType, StructField, StringType, TimestampType"
   ]
  },
  {
   "cell_type": "code",
   "execution_count": 0,
   "metadata": {
    "application/vnd.databricks.v1+cell": {
     "cellMetadata": {
      "byteLimit": 2048000,
      "rowLimit": 10000
     },
     "inputWidgets": {},
     "nuid": "4f187cce-e482-4b56-902a-598bab8505b4",
     "showTitle": false,
     "title": ""
    }
   },
   "outputs": [],
   "source": [
    "# spark = SparkSession.builder.appName(\n",
    "#   \"pandas to spark\").getOrCreate()\n",
    "\n",
    "# spark = SparkSession.builder.appName('sparkdf').getOrCreate() "
   ]
  },
  {
   "cell_type": "code",
   "execution_count": 0,
   "metadata": {
    "application/vnd.databricks.v1+cell": {
     "cellMetadata": {
      "byteLimit": 2048000,
      "rowLimit": 10000
     },
     "inputWidgets": {},
     "nuid": "d2264aae-d80a-46a0-b321-c6c2934cf347",
     "showTitle": false,
     "title": ""
    }
   },
   "outputs": [],
   "source": [
    "import discord\n",
    "import pandas as pd\n",
    "from datetime import datetime, timedelta\n",
    "\n",
    "def get_api_key(filename):\n",
    "    with open(filename, 'r') as file:\n",
    "        file_contents = file.read()\n",
    "    return file_contents\n",
    "\n",
    "API_TOKEN = get_api_key('overkey.txt')\n",
    "\n",
    "intents = discord.Intents.default()\n",
    "intents.message_content = True\n",
    "intents.presences = True\n",
    "\n",
    "client = discord.Client(intents=intents)\n",
    "\n",
    "CHANNELS = ['lets-play-mm', 'lets-play-bmod','server-seeding']\n",
    "\n",
    "intents = discord.Intents.default()\n",
    "intents.message_content = True\n",
    "\n",
    "client = discord.Client(intents=intents)\n",
    "\n",
    "data = {'Author': [], 'Message': [], 'Timestamp': [], 'Channel': []}\n",
    "\n",
    "async def collect_data(channel, data, msg_amount):\n",
    "    async for message in channel.history(limit=msg_amount):\n",
    "        author = message.author.name\n",
    "        content = message.content\n",
    "        timestamp = message.created_at\n",
    "        msg_channel = message.channel\n",
    "\n",
    "        # Append the data to the dictionary\n",
    "        data['Author'].append(author)\n",
    "        data['Message'].append(content)\n",
    "        \n",
    "        data['Timestamp'].append(timestamp)\n",
    "        data['Channel'].append(msg_channel)\n",
    "\n",
    "@client.event\n",
    "async def on_ready():\n",
    "    print(f'Logged in as {client.user.name} ({client.user.id})')\n",
    "    print('------')\n",
    "    df_list = []\n",
    "    # Get the channel by name\n",
    "    for channel_name in CHANNELS:\n",
    "        channel = discord.utils.get(client.get_all_channels(), name=channel_name)\n",
    "        data = {'Author': [], 'Message': [], 'Timestamp': [], 'Channel': []}\n",
    "        # Run the data collection function\n",
    "        await collect_data(channel, data, 200)\n",
    "        \n",
    "        # Create a DataFrame from the collected data\n",
    "        df = pd.DataFrame(data)\n",
    "        df = df.astype(str)\n",
    "        substring = 'connect/'\n",
    "        filter_condition = df['Message'].str.contains(substring, case=False, na=False)\n",
    "        filtered_df = df[filter_condition]\n",
    "        # print(df[\"Message\"])\n",
    "        # df['Channel'] = df['Channel'].replace('-', '_', regex=True)\n",
    "        # df_list.append(df)    \n",
    "        channel_name_replaced = channel_name.replace('-','_')\n",
    "\n",
    "        spark_df = spark.createDataFrame(filtered_df)\n",
    "        # spark_df.show()\n",
    "        # spark_df.printSchema()\n",
    "        # spark_df.saveAsTable(\"adb_hibak.bronze_discord_\"+channel_name_replaced)\n",
    "        spark.sql(f\"DROP TABLE IF EXISTS adb_hibak.bronze_tf2_discord_{channel_name_replaced}\")\n",
    "        spark_df.write.mode('overwrite').format(\"delta\").saveAsTable(\"adb_hibak.bronze_tf2_discord_\"+channel_name_replaced)\n",
    "    # for dfs in df_list:\n",
    "    #     spark_df_connect = spark.createDataFrame(dfs)\n",
    "    #     spark_df_connect.display()\n",
    "\n",
    "\n",
    "        # df.to_csv(f'bronze\\{channel_name}.csv')\n",
    "        # df_dict[channel_name] = data\n",
    "        # df_spark = spark.createDataFrame(data)\n",
    " \n",
    "        # df_spark.show()\n",
    "    \n",
    "\n",
    "    await client.close()\n",
    "    # print(df_dict)\n",
    "\n",
    "\n",
    "\n",
    "await client.start(API_TOKEN)"
   ]
  }
 ],
 "metadata": {
  "application/vnd.databricks.v1+notebook": {
   "dashboards": [],
   "language": "python",
   "notebookMetadata": {
    "pythonIndentUnit": 4
   },
   "notebookName": "bronze_dump_discord_events_pyspark",
   "widgets": {}
  },
  "kernelspec": {
   "display_name": "Python 3",
   "language": "python",
   "name": "python3"
  },
  "language_info": {
   "codemirror_mode": {
    "name": "ipython",
    "version": 3
   },
   "file_extension": ".py",
   "mimetype": "text/x-python",
   "name": "python",
   "nbconvert_exporter": "python",
   "pygments_lexer": "ipython3",
   "version": "3.11.3"
  }
 },
 "nbformat": 4,
 "nbformat_minor": 0
}
